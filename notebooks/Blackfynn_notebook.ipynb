{
 "cells": [
  {
   "cell_type": "markdown",
   "metadata": {},
   "source": [
    "# Blackfynn Notebook"
   ]
  },
  {
   "cell_type": "markdown",
   "metadata": {},
   "source": [
    "[Click here to go on the Blackfynn webpage](https://www.blackfynn.com/)"
   ]
  },
  {
   "cell_type": "markdown",
   "metadata": {},
   "source": [
    "## 1. Log in to your account"
   ]
  },
  {
   "cell_type": "code",
   "execution_count": 7,
   "metadata": {},
   "outputs": [
    {
     "data": {
      "text/markdown": [
       "**Setup your Balckfynn profile on your computer following the instructions available here:**"
      ],
      "text/plain": [
       "<IPython.core.display.Markdown object>"
      ]
     },
     "metadata": {},
     "output_type": "display_data"
    },
    {
     "data": {
      "text/html": [
       "<a href='http://help.blackfynn.com/developers/configuration/creating-an-api-key-for-the-blackfynn-clients'>http://help.blackfynn.com/developers/configuration/creating-an-api-key-for-the-blackfynn-clients</a>"
      ],
      "text/plain": [
       "<IPython.core.display.HTML object>"
      ]
     },
     "metadata": {},
     "output_type": "display_data"
    },
    {
     "name": "stdout",
     "output_type": "stream",
     "text": [
      "\n",
      "\n"
     ]
    },
    {
     "data": {
      "application/vnd.jupyter.widget-view+json": {
       "model_id": "615bc626ed754c4aa6a1866e8b3f525a",
       "version_major": 2,
       "version_minor": 0
      },
      "text/plain": [
       "HBox(children=(Label(value='Click here to check your profile:'), Button(description='Check profile setup', sty…"
      ]
     },
     "metadata": {},
     "output_type": "display_data"
    },
    {
     "data": {
      "application/vnd.jupyter.widget-view+json": {
       "model_id": "36d4fa0a001949099d94ae25d8d95476",
       "version_major": 2,
       "version_minor": 0
      },
      "text/plain": [
       "Output()"
      ]
     },
     "metadata": {},
     "output_type": "display_data"
    }
   ],
   "source": [
    "from blackfynn import Blackfynn # Load the Blackfynn python client library\n",
    "import ipywidgets as widgets # load library for interactive widgets (drop-down lists, button, etc.)\n",
    "from ipywidgets import HBox, Label, Layout\n",
    "from IPython.core.display import display, HTML\n",
    "from IPython.display import clear_output, Markdown\n",
    "\n",
    "### Define some useful functions\n",
    "\n",
    "# Print with style (bold etc.)\n",
    "def printmd(string): \n",
    "    display(Markdown(string))\n",
    "\n",
    "# Button\n",
    "def mybutton(mydescription):\n",
    "    mybuttonis = widgets.Button(\n",
    "    description = mydescription,\n",
    "    disabled = False,\n",
    "    button_style = '', # 'success', 'info', 'warning', 'danger' or ''    \n",
    "    )\n",
    "    return mybuttonis\n",
    "\n",
    "# Dropdown list\n",
    "def mydropdownlist(listoptions):\n",
    "    mydropdownlistis = widgets.Dropdown(\n",
    "    options = listoptions,\n",
    "    value = listoptions[0],\n",
    "    disabled = False    \n",
    "    )\n",
    "    return mydropdownlistis\n",
    "\n",
    "# Textbox\n",
    "def mytextbox(placeholder):\n",
    "    mytextboxis = widgets.Text(\n",
    "        #value='Type dataset name',\n",
    "        placeholder=placeholder,\n",
    "        disabled=False,\n",
    "        layout=Layout(width='60%')\n",
    "    )\n",
    "    return mytextboxis\n",
    "\n",
    "### Profile setup instructions\n",
    "printmd('**Setup your Balckfynn profile on your computer following the instructions available here:**') \n",
    "#display(HTML('<h1>Hello, world!</h1>'))('http://help.blackfynn.com/developers/configuration/creating-an-api-key-for-the-blackfynn-clients')\n",
    "display(HTML(\"<a href='http://help.blackfynn.com/developers/configuration/creating-an-api-key-for-the-blackfynn-clients'>http://help.blackfynn.com/developers/configuration/creating-an-api-key-for-the-blackfynn-clients</a>\"))\n",
    "\n",
    "### Check profile setup\n",
    "print()\n",
    "print()\n",
    "checkprofile_button = mybutton('Check profile setup')\n",
    "check_box = HBox([Label('Click here to check your profile:'), checkprofile_button])\n",
    "display(check_box)\n",
    "\n",
    "output = widgets.Output()\n",
    "@output.capture()\n",
    "def checkprofile_button_clicked(b):\n",
    "    clear_output()\n",
    "    print('Checking...')\n",
    "    clear_output(wait=True)\n",
    "    !bf status\n",
    "    bf = Blackfynn() # Connect to your profile\n",
    "checkprofile_button.on_click(checkprofile_button_clicked)\n",
    "display(output)\n"
   ]
  },
  {
   "cell_type": "markdown",
   "metadata": {},
   "source": [
    "## 2. Look at your existing dataset and files on Blackfynn"
   ]
  },
  {
   "cell_type": "code",
   "execution_count": 19,
   "metadata": {},
   "outputs": [
    {
     "data": {
      "application/vnd.jupyter.widget-view+json": {
       "model_id": "46e1a622e32a443393614abd833e7f61",
       "version_major": 2,
       "version_minor": 0
      },
      "text/plain": [
       "HBox(children=(Label(value='Click here to see your dataset:'), Button(description='Show existing dataset', sty…"
      ]
     },
     "metadata": {},
     "output_type": "display_data"
    },
    {
     "data": {
      "application/vnd.jupyter.widget-view+json": {
       "model_id": "5fdbc27233174a45ba9ffc0271aa58ce",
       "version_major": 2,
       "version_minor": 0
      },
      "text/plain": [
       "Output()"
      ]
     },
     "metadata": {},
     "output_type": "display_data"
    }
   ],
   "source": [
    "import pandas as pd # for conveniently displaying the files in a dataset\n",
    "\n",
    "bf = Blackfynn() \n",
    "\n",
    "seedataset_button = mybutton('Show existing dataset')\n",
    "check_box = HBox([Label('Click here to see your dataset:'), seedataset_button])\n",
    "display(check_box)\n",
    "\n",
    "showdataset_button = mybutton(\"Dataset structure\")\n",
    "\n",
    "output = widgets.Output()\n",
    "@output.capture()\n",
    "def seedataset_button_clicked(b):\n",
    "    clear_output()\n",
    "    dataset_list = ['See datasets']\n",
    "    for ds in bf.datasets():\n",
    "        dataset_list.append(ds.name) \n",
    "    showdataset(dataset_list)\n",
    "seedataset_button.on_click(seedataset_button_clicked)\n",
    "display(output)\n",
    "\n",
    "def showdataset(dataset_option):\n",
    "    dataset_dropdown = mydropdownlist(dataset_option)\n",
    "    dataset_selection_box = HBox([Label('Select dataset:'), dataset_dropdown, showdataset_button])\n",
    "    display(dataset_selection_box)\n",
    "    output = widgets.Output()\n",
    "    @output.capture()\n",
    "    def showdataset_button_clicked(b):\n",
    "        if (dataset_dropdown.value == 'See datasets'):\n",
    "            clear_output()\n",
    "            printmd('**Please select a dataset**')\n",
    "        else:\n",
    "            clear_output()\n",
    "            mydataset = bf.get_dataset(dataset_dropdown.value)\n",
    "            print_file_structure(mydataset,0)\n",
    "    showdataset_button.on_click(showdataset_button_clicked)\n",
    "    display(output)  \n",
    "\n",
    "def print_file_structure(dataset, indent):\n",
    "    if (indent==0):\n",
    "        print('{0}{1}'.format(\"Dataset = \", dataset.name))\n",
    "    else:\n",
    "        print('{0} * {1} ({2})'.format(' '*indent, dataset.name, 'Folder'))          \n",
    "    for item in dataset.items:\n",
    "        try: \n",
    "            item._properties[\"Blackfynn\"][\"subtype\"].value\n",
    "        except:\n",
    "            print_file_structure(item, indent=indent+5)\n",
    "        else:\n",
    "            print('{0} . {1} ({2})'.format(' '*(indent+5), item.name, item._properties[\"Blackfynn\"][\"subtype\"].value))"
   ]
  },
  {
   "cell_type": "markdown",
   "metadata": {},
   "source": [
    "## 3. Create dataset"
   ]
  },
  {
   "cell_type": "code",
   "execution_count": 9,
   "metadata": {},
   "outputs": [
    {
     "data": {
      "application/vnd.jupyter.widget-view+json": {
       "model_id": "e8200f4035bc408ab12b13be88a0bb4c",
       "version_major": 2,
       "version_minor": 0
      },
      "text/plain": [
       "HBox(children=(Label(value='Enter name:'), Text(value='', layout=Layout(width='60%'), placeholder='Type new da…"
      ]
     },
     "metadata": {},
     "output_type": "display_data"
    },
    {
     "data": {
      "application/vnd.jupyter.widget-view+json": {
       "model_id": "f67ebe839b1843f7936692229b0be7c1",
       "version_major": 2,
       "version_minor": 0
      },
      "text/plain": [
       "HBox(children=(Button(description='Create dataset', style=ButtonStyle()),))"
      ]
     },
     "metadata": {},
     "output_type": "display_data"
    },
    {
     "data": {
      "application/vnd.jupyter.widget-view+json": {
       "model_id": "cf74288313044b9989bcf148e9030e40",
       "version_major": 2,
       "version_minor": 0
      },
      "text/plain": [
       "Output()"
      ]
     },
     "metadata": {},
     "output_type": "display_data"
    }
   ],
   "source": [
    "### Enter data set name\n",
    "newdatasetname_textbox = mytextbox('Type new dataset name')\n",
    "datasetname_box = HBox([Label('Enter name:'), newdatasetname_textbox])\n",
    "display(datasetname_box)\n",
    "\n",
    "### Create dataset\n",
    "createdataset_button = mybutton('Create dataset')\n",
    "createdataset_box = HBox([createdataset_button])\n",
    "display(createdataset_box)\n",
    "\n",
    "\n",
    "import traceback\n",
    "output = widgets.Output()\n",
    "@output.capture()\n",
    "def createdataset_button_clicked(b):\n",
    "    clear_output()\n",
    "    if (newdatasetname_textbox.value ==''):\n",
    "        printmd('**Please enter a name**')\n",
    "    else:\n",
    "        try:\n",
    "            ds = bf.create_dataset(newdatasetname_textbox.value)\n",
    "        except:\n",
    "            exceptiondata = traceback.format_exc().splitlines()\n",
    "            exceptionarray = [exceptiondata[-1]] \n",
    "            print(exceptionarray)\n",
    "        else:\n",
    "            printmd('**Dataset created. New dataset list:**')\n",
    "            count = 0\n",
    "            for ds in bf.datasets():\n",
    "                count += 1\n",
    "                print(\"Dataset # {0}: \".format(count), ds.name)\n",
    "    \n",
    "createdataset_button.on_click(createdataset_button_clicked)\n",
    "display(output)"
   ]
  },
  {
   "cell_type": "markdown",
   "metadata": {},
   "source": [
    "## 4. Upload a file to an existing dataset"
   ]
  },
  {
   "cell_type": "code",
   "execution_count": 18,
   "metadata": {},
   "outputs": [
    {
     "data": {
      "application/vnd.jupyter.widget-view+json": {
       "model_id": "c50252d018234d838225069e2c76d6b3",
       "version_major": 2,
       "version_minor": 0
      },
      "text/plain": [
       "HBox(children=(Label(value='Dataset name:'), Text(value='', layout=Layout(width='60%'), placeholder='Type data…"
      ]
     },
     "metadata": {},
     "output_type": "display_data"
    },
    {
     "data": {
      "application/vnd.jupyter.widget-view+json": {
       "model_id": "10413881fb3e4b0fa43667a4dda16ec3",
       "version_major": 2,
       "version_minor": 0
      },
      "text/plain": [
       "HBox(children=(Label(value='File location:'), Text(value='', layout=Layout(width='60%'), placeholder='e.g. C:\\…"
      ]
     },
     "metadata": {},
     "output_type": "display_data"
    },
    {
     "data": {
      "application/vnd.jupyter.widget-view+json": {
       "model_id": "d9d2a454f7bc43069861b0aeb2604433",
       "version_major": 2,
       "version_minor": 0
      },
      "text/plain": [
       "HBox(children=(Button(description='Upload file', style=ButtonStyle()),))"
      ]
     },
     "metadata": {},
     "output_type": "display_data"
    },
    {
     "data": {
      "application/vnd.jupyter.widget-view+json": {
       "model_id": "82be7a47a0da46a0af76ae92ab410d05",
       "version_major": 2,
       "version_minor": 0
      },
      "text/plain": [
       "Output()"
      ]
     },
     "metadata": {},
     "output_type": "display_data"
    }
   ],
   "source": [
    "# Enter data set name\n",
    "datasetname_textbox = mytextbox('Type dataset name')\n",
    "datasetname_box = HBox([Label('Dataset name:'), datasetname_textbox])\n",
    "display(datasetname_box)\n",
    "\n",
    "#Specify file location\n",
    "datafilename_textbox = mytextbox(r'e.g. C:\\User\\Desktop\\DOPEv1.1\\examples\\blackfynn\\Hello.docx')\n",
    "datafilename_box = HBox([Label('File location:'), datafilename_textbox])\n",
    "display(datafilename_box)\n",
    "\n",
    "#Upload\n",
    "uploaddatafile_button = mybutton('Upload file')\n",
    "uploaddatafile_box = HBox([uploaddatafile_button])\n",
    "display(uploaddatafile_box)\n",
    "\n",
    "import traceback\n",
    "output = widgets.Output()\n",
    "@output.capture()\n",
    "def uploaddatafile_button_clicked(b):\n",
    "    clear_output()\n",
    "    print('Uploading...')\n",
    "    try:\n",
    "        ds = bf.get_dataset(datasetname_textbox.value)\n",
    "    except:\n",
    "        clear_output()\n",
    "        printmd('**Dataset not found**')\n",
    "        exceptiondata = traceback.format_exc().splitlines()\n",
    "        exceptionarray = [exceptiondata[-1]] \n",
    "        print(exceptionarray)\n",
    "    else:\n",
    "        try:\n",
    "            path = datafilename_textbox.value\n",
    "            ds.upload(path)  \n",
    "        except:\n",
    "            clear_output()\n",
    "            printmd('**File could not be located**')\n",
    "        else:\n",
    "            clear_output()\n",
    "            printmd('**File uploaded**')\n",
    "    \n",
    "uploaddatafile_button.on_click(uploaddatafile_button_clicked)\n",
    "display(output)\n",
    "\n",
    "# example path = r'C:\\Users\\Calmi2\\Desktop\\My data\\Hello.docx'"
   ]
  },
  {
   "cell_type": "markdown",
   "metadata": {},
   "source": [
    "## 5. Upload a folder of files (folder structure conserved)"
   ]
  },
  {
   "cell_type": "code",
   "execution_count": 26,
   "metadata": {},
   "outputs": [
    {
     "data": {
      "application/vnd.jupyter.widget-view+json": {
       "model_id": "2985bff7179f4d279430ea225291dbf5",
       "version_major": 2,
       "version_minor": 0
      },
      "text/plain": [
       "HBox(children=(Label(value='Dataset name:'), Text(value='', layout=Layout(width='60%'), placeholder='Type data…"
      ]
     },
     "metadata": {},
     "output_type": "display_data"
    },
    {
     "data": {
      "application/vnd.jupyter.widget-view+json": {
       "model_id": "7d2baecd651c4270a7e885567ec090d4",
       "version_major": 2,
       "version_minor": 0
      },
      "text/plain": [
       "HBox(children=(Label(value='Folder location:'), Text(value='', layout=Layout(width='60%'), placeholder='e.g. C…"
      ]
     },
     "metadata": {},
     "output_type": "display_data"
    },
    {
     "data": {
      "application/vnd.jupyter.widget-view+json": {
       "model_id": "1e6252c675ee4657bb8f1ab4f17a8691",
       "version_major": 2,
       "version_minor": 0
      },
      "text/plain": [
       "HBox(children=(Button(description='Upload folder', style=ButtonStyle()),))"
      ]
     },
     "metadata": {},
     "output_type": "display_data"
    },
    {
     "data": {
      "application/vnd.jupyter.widget-view+json": {
       "model_id": "41ab8267819d423b94e03cfcbaad1c6e",
       "version_major": 2,
       "version_minor": 0
      },
      "text/plain": [
       "Output()"
      ]
     },
     "metadata": {},
     "output_type": "display_data"
    }
   ],
   "source": [
    "import os\n",
    "from os import listdir, walk\n",
    "from os.path import isfile, join\n",
    "\n",
    "# Enter data set name\n",
    "datasetname_textbox = mytextbox('Type dataset name')\n",
    "datasetname_box = HBox([Label('Dataset name:'), datasetname_textbox])\n",
    "display(datasetname_box)\n",
    "\n",
    "#Specify file location\n",
    "datafilename_textbox = mytextbox('e.g. C:/User/Desktop/My data')\n",
    "datafilename_box = HBox([Label('Folder location:'), datafilename_textbox])\n",
    "display(datafilename_box)\n",
    "\n",
    "#Upload\n",
    "uploaddatafile_button = mybutton('Upload folder')\n",
    "uploaddatafile_box = HBox([uploaddatafile_button])\n",
    "display(uploaddatafile_box)\n",
    "\n",
    "import traceback\n",
    "output = widgets.Output()\n",
    "@output.capture()\n",
    "def uploaddatafile_button_clicked(b):\n",
    "    clear_output()\n",
    "    print('Uploading...')\n",
    "    try:\n",
    "        ds = bf.get_dataset(datasetname_textbox.value)\n",
    "    except:\n",
    "        clear_output()\n",
    "        printmd('**Dataset not found**')\n",
    "        #exceptiondata = traceback.format_exc().splitlines()\n",
    "        #exceptionarray = [exceptiondata[-1]] \n",
    "        #print(exceptionarray)\n",
    "    else:\n",
    "        #path = datafilename_textbox.value\n",
    "        #upload_structured_file(ds, path, ds.name, 0)\n",
    "        try:\n",
    "            path = datafilename_textbox.value\n",
    "            upload_structured_file(ds, path, ds.name, 0)\n",
    "        except:\n",
    "            #clear_output()\n",
    "            printmd('**Folder could not be located**')\n",
    "        else:\n",
    "            printmd('**Folder and associated files uploaded**')\n",
    "\n",
    "def upload_structured_file(myds, mypath, myfolder, foldercount):\n",
    "    mypath = os.path.join(mypath)\n",
    "    for f in listdir(mypath):\n",
    "        if isfile(join(mypath, f)):  \n",
    "            print('Uploading', f, 'in', myfolder)\n",
    "            filepath = os.path.join(mypath, f)\n",
    "            myds.upload(filepath)\n",
    "            print(f, 'uploaded')\n",
    "        else:\n",
    "            print('Creating folder', f)\n",
    "            mybffolder = myds.create_collection(f)\n",
    "            print(f, 'folder created')\n",
    "            myfolderpath = os.path.join(mypath, f)\n",
    "            foldercount += 1\n",
    "            upload_structured_file(mybffolder, myfolderpath, f, foldercount)\n",
    "uploaddatafile_button.on_click(uploaddatafile_button_clicked)\n",
    "display(output)\n",
    "\n",
    "# C:\\User\\Desktop\\DOPEv1.1\\examples\\blackfynn\\example_data"
   ]
  },
  {
   "cell_type": "markdown",
   "metadata": {},
   "source": [
    "## 6. Create a calendar reminder"
   ]
  },
  {
   "cell_type": "markdown",
   "metadata": {},
   "source": [
    "Create a calendar event file (.ics) that could be imported in any calendar (Google, Outlook, etc.)"
   ]
  },
  {
   "cell_type": "code",
   "execution_count": 13,
   "metadata": {},
   "outputs": [
    {
     "data": {
      "application/vnd.jupyter.widget-view+json": {
       "model_id": "ed6256345eb84fb6b7fae033677aa577",
       "version_major": 2,
       "version_minor": 0
      },
      "text/plain": [
       "HBox(children=(Label(value='Enter reminder message:'), Text(value='', layout=Layout(width='60%'), placeholder=…"
      ]
     },
     "metadata": {},
     "output_type": "display_data"
    },
    {
     "data": {
      "application/vnd.jupyter.widget-view+json": {
       "model_id": "b9b69a1b363840b4ac065fee5212f020",
       "version_major": 2,
       "version_minor": 0
      },
      "text/plain": [
       "HBox(children=(Label(value='Enter reminder date and time:'), BoundedIntText(value=2018, layout=Layout(width='1…"
      ]
     },
     "metadata": {},
     "output_type": "display_data"
    },
    {
     "data": {
      "application/vnd.jupyter.widget-view+json": {
       "model_id": "0d9d4da3af0d4289bf836abaeb8db00a",
       "version_major": 2,
       "version_minor": 0
      },
      "text/plain": [
       "HBox(children=(Button(description='Create calendar event', style=ButtonStyle()),))"
      ]
     },
     "metadata": {},
     "output_type": "display_data"
    },
    {
     "data": {
      "application/vnd.jupyter.widget-view+json": {
       "model_id": "fad806954dd24b4d8e99ce1128a1da37",
       "version_major": 2,
       "version_minor": 0
      },
      "text/plain": [
       "Output()"
      ]
     },
     "metadata": {},
     "output_type": "display_data"
    }
   ],
   "source": [
    "import smtplib\n",
    "from datetime import datetime\n",
    "from threading import Timer\n",
    "import os\n",
    "\n",
    "### Dataset name\n",
    "datasetreminder_textbox = mytextbox('Remember to...')\n",
    "\n",
    "datesetreminder_box = HBox([Label('Enter reminder message:'), datasetreminder_textbox])\n",
    "display(datesetreminder_box)\n",
    "\n",
    "### Specify date and time\n",
    "\n",
    "# Specify date\n",
    "reminder_datepicker = widgets.DatePicker(\n",
    "    #description='Pick a Date',\n",
    "    disabled=False\n",
    ")\n",
    "\n",
    "# Specify time\n",
    "reminder_timepicker = widgets.DatePicker(\n",
    "    #description='Pick a Date',\n",
    "    disabled=False\n",
    ")\n",
    "\n",
    "year_textbox = widgets.BoundedIntText(\n",
    "    #value=7,\n",
    "    min=2018,\n",
    "    max=3000,\n",
    "    step=1,\n",
    "    placeholder = 2018,\n",
    "    #description='Text:',\n",
    "    disabled=False,\n",
    "    layout=Layout(width='10%')\n",
    ")\n",
    "\n",
    "month_textbox = widgets.BoundedIntText(\n",
    "    #value=7,\n",
    "    min=1,\n",
    "    max=12,\n",
    "    step=1,\n",
    "    placeholder = 1,\n",
    "    #description='Text:',\n",
    "    disabled=False,\n",
    "    layout=Layout(width='10%')\n",
    ")\n",
    "\n",
    "day_textbox = widgets.BoundedIntText(\n",
    "    #value=7,\n",
    "    min=1,\n",
    "    max=31,\n",
    "    step=1,\n",
    "    placeholder = 1,\n",
    "    #description='Text:',\n",
    "    disabled=False,\n",
    "    layout=Layout(width='10%')\n",
    ")\n",
    "\n",
    "hour_textbox = widgets.BoundedIntText(\n",
    "    #value=7,\n",
    "    min=0,\n",
    "    max=24,\n",
    "    step=1,\n",
    "    placeholder = 13,\n",
    "    #description='Text:',\n",
    "    disabled=False,\n",
    "    layout=Layout(width='10%')\n",
    ")\n",
    "\n",
    "min_textbox = widgets.BoundedIntText(\n",
    "    #value=7,\n",
    "    min=0,\n",
    "    max=60,\n",
    "    step=1,\n",
    "    placeholder = 30,\n",
    "    #description='Text:',\n",
    "    disabled=False,\n",
    "    layout=Layout(width='10%')\n",
    ")\n",
    "\n",
    "# Box\n",
    "datetime_box = HBox([Label('Enter reminder date and time:'), year_textbox, month_textbox, day_textbox, hour_textbox, min_textbox])\n",
    "display(datetime_box)\n",
    "\n",
    "\n",
    "### Button test then validate reminder setup\n",
    "\n",
    "testemail_button = widgets.Button(\n",
    "    description='Create calendar event',\n",
    "    disabled=False,\n",
    "    button_style='', # 'success', 'info', 'warning', 'danger' or ''    \n",
    ")\n",
    "\n",
    "reminder_box = HBox([testemail_button])\n",
    "display(reminder_box)\n",
    "\n",
    "from ics import Calendar, Event\n",
    "output = widgets.Output()\n",
    "@output.capture()\n",
    "def testemail_button_clicked(b):\n",
    "    clear_output()\n",
    "    print('Creating calendar event')\n",
    "\n",
    "    datasetname = datasetreminder_textbox.value\n",
    "    \n",
    "    cwd = os.getcwd()\n",
    "    mypath = os.path.join(cwd + '\\\\' + 'calendar_event' + '.ics' )\n",
    "    #print(mypath)\n",
    "    c = Calendar()\n",
    "    e = Event()\n",
    "    reminderdate = datetime(year = year_textbox.value, month = month_textbox.value, day = day_textbox.value, hour = hour_textbox.value+5, minute = min_textbox.value)\n",
    "    e.name = datasetreminder_textbox.value\n",
    "    e.begin = reminderdate\n",
    "    c.events.add(e)\n",
    "    c.events\n",
    "    #print(c.events)\n",
    "    with open(mypath, 'w') as f:\n",
    "        f.writelines(c)\n",
    "    print('Event created in file calendar_event.ics')\n",
    "\n",
    "    \n",
    "testemail_button.on_click(testemail_button_clicked)\n",
    "display(output)"
   ]
  },
  {
   "cell_type": "code",
   "execution_count": null,
   "metadata": {},
   "outputs": [],
   "source": []
  }
 ],
 "metadata": {
  "kernelspec": {
   "display_name": "Python 3",
   "language": "python",
   "name": "python3"
  },
  "language_info": {
   "codemirror_mode": {
    "name": "ipython",
    "version": 3
   },
   "file_extension": ".py",
   "mimetype": "text/x-python",
   "name": "python",
   "nbconvert_exporter": "python",
   "pygments_lexer": "ipython3",
   "version": "3.7.0"
  }
 },
 "nbformat": 4,
 "nbformat_minor": 2
}
