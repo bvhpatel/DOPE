{
 "cells": [
  {
   "cell_type": "markdown",
   "metadata": {},
   "source": [
    "# Validate your dataset"
   ]
  },
  {
   "cell_type": "code",
   "execution_count": 1,
   "metadata": {},
   "outputs": [
    {
     "data": {
      "application/vnd.jupyter.widget-view+json": {
       "model_id": "6afaad0d48764f13bd88442644d394e2",
       "version_major": 2,
       "version_minor": 0
      },
      "text/plain": [
       "HBox(children=(Label(value='Select your data type:'), Dropdown(options=('Select', 'MRI-Neural', 'Micro-CT', 'C…"
      ]
     },
     "metadata": {},
     "output_type": "display_data"
    },
    {
     "data": {
      "application/vnd.jupyter.widget-view+json": {
       "model_id": "67659dc5b6dc4b448234b70dfd2182d1",
       "version_major": 2,
       "version_minor": 0
      },
      "text/plain": [
       "HBox(children=(Label(value='Specify the path to your dataset folder:'), Text(value='', placeholder='e.g. C:/Us…"
      ]
     },
     "metadata": {},
     "output_type": "display_data"
    },
    {
     "data": {
      "application/vnd.jupyter.widget-view+json": {
       "model_id": "eff19ced62234ef08270e7d521bdf2b9",
       "version_major": 2,
       "version_minor": 0
      },
      "text/plain": [
       "Button(description='Check dataset', style=ButtonStyle())"
      ]
     },
     "metadata": {},
     "output_type": "display_data"
    },
    {
     "data": {
      "application/vnd.jupyter.widget-view+json": {
       "model_id": "794aa9bd2240497e8784391029c872f0",
       "version_major": 2,
       "version_minor": 0
      },
      "text/plain": [
       "Output()"
      ]
     },
     "metadata": {},
     "output_type": "display_data"
    }
   ],
   "source": [
    "import ipywidgets as widgets # load library for interactive widgets (drop-down lists, button, etc.)\n",
    "from IPython.display import clear_output # clear output if you click on button several times\n",
    "from os import listdir\n",
    "from os.path import isfile, join\n",
    "from os import walk\n",
    "import os\n",
    "import pandas as pd\n",
    "\n",
    "### Data type selection box\n",
    "# List of data currently included the program\n",
    "datatypelist = ['Select', 'MRI-Neural','Micro-CT', 'Computational model', 'Other']\n",
    "\n",
    "# Drop down for selecting datatype\n",
    "from ipywidgets import HBox, Label, Layout\n",
    "displayoption = datatypelist[0]\n",
    "style = {'description': 'initial'}\n",
    "select_datatype= widgets.Dropdown(\n",
    "    options=datatypelist,\n",
    "    value=displayoption,\n",
    "    #description='Select data type:',\n",
    "    #style = style,\n",
    "    disabled=False,    \n",
    ")\n",
    "\n",
    "#Specify file location\n",
    "folderlocation_textbox = widgets.Text(\n",
    "    #value='Type data file location e.g. C:/User/Desktop/Hello.docx',\n",
    "    placeholder='e.g. C:/User/Desktop/My data',\n",
    "    disabled=False\n",
    ")\n",
    "    \n",
    "# Button to validate dataytype selection and display checklist\n",
    "checkdataset_button = widgets.Button(\n",
    "    description='Check dataset',\n",
    "    disabled=False,\n",
    "    button_style='', # 'success', 'info', 'warning', 'danger' or ''    \n",
    ")\n",
    "  \n",
    "# Box\n",
    "selection_box = HBox([Label('Select your data type:'), select_datatype])\n",
    "display(selection_box)\n",
    "folderlocation_box = HBox([Label('Specify the path to your dataset folder:'), folderlocation_textbox])\n",
    "display(folderlocation_box)\n",
    "display(checkdataset_button)  \n",
    "\n",
    "\n",
    "### Check datatype\n",
    "listfoldername = r'Validation'\n",
    "# Show checklist as a table with link to useful webpages, form templates, and interactive notebooks (when applicable)\n",
    "output = widgets.Output()\n",
    "@output.capture()\n",
    "def on_button_clicked(b):\n",
    "    clear_output()\n",
    "    if (select_datatype.value == displayoption):\n",
    "        clear_output()\n",
    "        print('Please select data type')\n",
    "    elif(select_datatype.value == \"Other\"):\n",
    "        clear_output()\n",
    "        print('Your data type has not been doped yet')\n",
    "    else:\n",
    "        clear_output()\n",
    "        print('Checking the files in your dataset')\n",
    "\n",
    "        validationfile = os.path.join(listfoldername + '\\\\' + select_datatype.value + '.xlsx')\n",
    "        df = pd.read_excel(validationfile)\n",
    "        expectedfiles = df['Expected files']\n",
    "        try:\n",
    "            mypath = folderlocation_textbox.value\n",
    "            onlyfiles = [f for f in listdir(mypath) if isfile(join(mypath, f))]\n",
    "            onlyfolders = next(os.walk(os.path.join(mypath,'.')))[1]\n",
    "            allfiles = onlyfiles + onlyfolders \n",
    "            for myfilename in expectedfiles:\n",
    "                if (myfilename in allfiles):\n",
    "                    print(myfilename, ': Checked')\n",
    "                else:\n",
    "                    print(myfilename, ': Missing!')\n",
    "        except:\n",
    "            clear_output()\n",
    "            print('Dataset folder could not be located')\n",
    "            \n",
    "checkdataset_button.on_click(on_button_clicked)\n",
    "display(output)"
   ]
  },
  {
   "cell_type": "code",
   "execution_count": null,
   "metadata": {},
   "outputs": [],
   "source": []
  }
 ],
 "metadata": {
  "kernelspec": {
   "display_name": "Python 3",
   "language": "python",
   "name": "python3"
  },
  "language_info": {
   "codemirror_mode": {
    "name": "ipython",
    "version": 3
   },
   "file_extension": ".py",
   "mimetype": "text/x-python",
   "name": "python",
   "nbconvert_exporter": "python",
   "pygments_lexer": "ipython3",
   "version": "3.7.0"
  }
 },
 "nbformat": 4,
 "nbformat_minor": 2
}
