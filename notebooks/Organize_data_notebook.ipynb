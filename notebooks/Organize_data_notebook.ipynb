{
 "cells": [
  {
   "cell_type": "markdown",
   "metadata": {},
   "source": [
    "# Organize your dataset according to applicable standards"
   ]
  },
  {
   "cell_type": "code",
   "execution_count": 1,
   "metadata": {},
   "outputs": [
    {
     "data": {
      "application/vnd.jupyter.widget-view+json": {
       "model_id": "95bb57175bad44da8a0dcfe3d32388b7",
       "version_major": 2,
       "version_minor": 0
      },
      "text/plain": [
       "HBox(children=(Label(value='Select your data type:'), Dropdown(options=('Select', 'Checkist_template', 'Comput…"
      ]
     },
     "metadata": {},
     "output_type": "display_data"
    },
    {
     "name": "stdout",
     "output_type": "stream",
     "text": [
      "\n",
      "\n"
     ]
    },
    {
     "data": {
      "application/vnd.jupyter.widget-view+json": {
       "model_id": "2d1be624e4b544889d9b8a0cb3d12405",
       "version_major": 2,
       "version_minor": 0
      },
      "text/plain": [
       "Output()"
      ]
     },
     "metadata": {},
     "output_type": "display_data"
    }
   ],
   "source": [
    "from IPython.display import Markdown, display\n",
    "import ipywidgets as widgets # load library for interactive widgets (dropdown lists, button, etc.)\n",
    "from ipywidgets import HBox, Label, Layout\n",
    "from IPython.display import clear_output, HTML # clear output if you click on button several times\n",
    "import os # to manipulate folders and files\n",
    "import pandas as pd # for conveniently importing excel files\n",
    "\n",
    "### Define some useful functions\n",
    "\n",
    "# Print with style (bold etc.)\n",
    "def printmd(string): \n",
    "    display(Markdown(string))\n",
    "\n",
    "# Dropdown list\n",
    "def mydropdownlist(listoptions):\n",
    "    mydropdownlistis = widgets.Dropdown(\n",
    "    options = listoptions,\n",
    "    value = listoptions[0],\n",
    "    disabled = False    \n",
    "    )\n",
    "    return mydropdownlistis\n",
    "\n",
    "# Button\n",
    "def mybutton(mydescription):\n",
    "    mybuttonis = widgets.Button(\n",
    "    description = mydescription,\n",
    "    disabled = False,\n",
    "    button_style = '', # 'success', 'info', 'warning', 'danger' or ''    \n",
    "    )\n",
    "    return mybuttonis\n",
    "\n",
    "### Data type selection interface ###\n",
    "\n",
    "# Import name of the checklists currently included in DOPE directly from the \"Checklists\" folder\n",
    "datatype_options = ['Select']\n",
    "current_folder = os.getcwd() \n",
    "main_folder = os.path.dirname(current_folder) \n",
    "checklists_folder = r'Checklists' \n",
    "checklists_path = os.path.join(main_folder, checklists_folder) # full path = main folder/checklists\n",
    "checklist_names = [\".\".join(f.split(\".\")[:-1]) for f in os.listdir(checklists_path) \\\n",
    "                  if os.path.isfile(os.path.join(checklists_path, f))] # Import checklist names without extension\n",
    "checklist_names = [x for x in checklist_names if not x.startswith('~')] # discard temp excel files starting with ~\n",
    "datatype_options = datatype_options + checklist_names + ['Other'] # dropdown list options\n",
    "\n",
    "# Dropdown list for selecting datatype\n",
    "select_datatype = mydropdownlist(datatype_options)\n",
    "\n",
    "# Button to validate dataytype selection and display checklist\n",
    "validate_datatype = mybutton('Validate selection')\n",
    "\n",
    "# Widget box for nice display\n",
    "selection_box = HBox([Label('Select your data type:'), select_datatype, validate_datatype])\n",
    "display(selection_box)\n",
    "\n",
    "print()\n",
    "print()\n",
    "### Display Checklist ###\n",
    "\n",
    "templates_folder = 'https://github.com/bvhpatel/DOPE/raw/master/templates' #location of the form templates\n",
    "\n",
    "# Action when button clicked: show checklist as a table\n",
    "output = widgets.Output()\n",
    "@output.capture()\n",
    "def on_button_clicked(b):\n",
    "    clear_output()\n",
    "    if (select_datatype.value == datatype_options[0]): # if \"Select\" is selected\n",
    "        printmd('**Please select data type**')\n",
    "    elif(select_datatype.value == \"Other\"): # if \"Other\" is selected\n",
    "        printmd('**Your data type has not been doped yet**') \n",
    "    else:\n",
    "        printmd(\"**Checklist for {}**\".format(select_datatype.value))\n",
    "        selected_checklist_name = select_datatype.value\n",
    "        selected_checklist_excel = os.path.join(checklists_path, selected_checklist_name + '.xlsx')\n",
    "        df = pd.read_excel(selected_checklist_excel)\n",
    "        pd.set_option('display.max_colwidth', -1)\n",
    "        count = -1\n",
    "        for web in df['Webpage']:\n",
    "            count += 1\n",
    "            if (web != 'N / A'): # link to webpage\n",
    "                df['Webpage'].iloc[count] = '<a href= {0}>{1}</a>'.format(web, web)\n",
    "            form = df['Template'].iloc[count]\n",
    "            if (form != 'N / A'): # link to form template\n",
    "                formlink = os.path.join(templates_folder, form)\n",
    "                df['Template'].iloc[count] = '<a href= {0}>{1}</a>'.format(formlink, form)\n",
    "            interactive_help = df['Interactive help'].iloc[count]\n",
    "            if (interactive_help != 'N / A'): # link to form template\n",
    "                df['Interactive help'].iloc[count] = '<a href= {0}>{1}</a>'.format(interactive_help, interactive_help)\n",
    "        display(HTML(df.to_html(escape=False)))\n",
    "validate_datatype.on_click(on_button_clicked)\n",
    "display(output)\n"
   ]
  },
  {
   "cell_type": "code",
   "execution_count": null,
   "metadata": {},
   "outputs": [],
   "source": []
  }
 ],
 "metadata": {
  "kernelspec": {
   "display_name": "Python 3",
   "language": "python",
   "name": "python3"
  },
  "language_info": {
   "codemirror_mode": {
    "name": "ipython",
    "version": 3
   },
   "file_extension": ".py",
   "mimetype": "text/x-python",
   "name": "python",
   "nbconvert_exporter": "python",
   "pygments_lexer": "ipython3",
   "version": "3.7.0"
  }
 },
 "nbformat": 4,
 "nbformat_minor": 2
}
