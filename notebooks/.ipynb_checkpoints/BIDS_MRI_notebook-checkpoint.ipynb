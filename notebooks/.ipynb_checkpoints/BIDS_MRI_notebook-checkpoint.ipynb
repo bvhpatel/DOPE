{
 "cells": [
  {
   "cell_type": "markdown",
   "metadata": {},
   "source": [
    "# BIDS v1.1.1 Notebook"
   ]
  },
  {
   "cell_type": "markdown",
   "metadata": {},
   "source": [
    "## 1. Describe your dataset in a json file"
   ]
  },
  {
   "cell_type": "code",
   "execution_count": 20,
   "metadata": {},
   "outputs": [
    {
     "data": {
      "text/html": [
       " Dowload file <a href= https://github.com/bvhpatel/DOPE/raw/master/templates\\dataset_description.xlsx>dataset_description.xlsx</a>, fill it out, and save it in your dataset"
      ],
      "text/plain": [
       "<IPython.core.display.HTML object>"
      ]
     },
     "metadata": {},
     "output_type": "display_data"
    },
    {
     "name": "stdout",
     "output_type": "stream",
     "text": [
      "\n",
      "\n"
     ]
    },
    {
     "data": {
      "application/vnd.jupyter.widget-view+json": {
       "model_id": "51a447b11b964ce486feb0e397189153",
       "version_major": 2,
       "version_minor": 0
      },
      "text/plain": [
       "HBox(children=(Label(value='Indicate path of dataset_description.xlsx folder:'), Text(value='', layout=Layout(…"
      ]
     },
     "metadata": {},
     "output_type": "display_data"
    },
    {
     "data": {
      "application/vnd.jupyter.widget-view+json": {
       "model_id": "fff57515896b4003841df7daee51ef0f",
       "version_major": 2,
       "version_minor": 0
      },
      "text/plain": [
       "HBox(children=(Label(value='Click here to generate json file:'), Button(description='Create json', style=Butto…"
      ]
     },
     "metadata": {},
     "output_type": "display_data"
    },
    {
     "data": {
      "application/vnd.jupyter.widget-view+json": {
       "model_id": "af65b3ba91b448618a4211394c378082",
       "version_major": 2,
       "version_minor": 0
      },
      "text/plain": [
       "Output()"
      ]
     },
     "metadata": {},
     "output_type": "display_data"
    }
   ],
   "source": [
    "import json\n",
    "import os\n",
    "import pandas as pd\n",
    "import numpy as np\n",
    "import ipywidgets as widgets # load library for interactive widgets (drop-down lists, button, etc.)\n",
    "from ipywidgets import HBox, Label, Layout\n",
    "from IPython.core.display import display, HTML\n",
    "from IPython.display import clear_output\n",
    "\n",
    "### Define some useful functions\n",
    "\n",
    "# Button\n",
    "def mybutton(mydescription):\n",
    "    mybuttonis = widgets.Button(\n",
    "    description = mydescription,\n",
    "    disabled = False,\n",
    "    button_style = '', # 'success', 'info', 'warning', 'danger' or ''    \n",
    "    )\n",
    "    return mybuttonis\n",
    "\n",
    "# Textbox\n",
    "def mytextbox(placeholder):\n",
    "    mytextboxis = widgets.Text(\n",
    "        #value='Type dataset name',\n",
    "        placeholder=placeholder,\n",
    "        disabled=False,\n",
    "        layout=Layout(width='60%')\n",
    "    )\n",
    "    return mytextboxis\n",
    "\n",
    "### Excel template\n",
    "templates_folder = 'https://github.com/bvhpatel/DOPE/raw/master/templates' #location of the form templates\n",
    "file_name = 'dataset_description.xlsx'\n",
    "file_path = os.path.join(templates_folder, file_name)\n",
    "file_dwld = ' Dowload file <a href= {0}>dataset_description.xlsx</a>, fill it out, and save it in your dataset'.format(file_path)\n",
    "display(HTML(file_dwld))\n",
    "\n",
    "print()\n",
    "print()\n",
    "### File location\n",
    "xlfilepath_textbox = mytextbox(r'e.g. C:\\User\\Desktop\\DOPEv1.1\\examples\\BIDS')\n",
    "datafilename_box = HBox([Label('Indicate path of dataset_description.xlsx folder:'), xlfilepath_textbox])\n",
    "display(datafilename_box)\n",
    "\n",
    "### Button create json file\n",
    "createjson_button = mybutton('Create json')\n",
    "json_box = HBox([Label('Click here to generate json file:'), createjson_button])\n",
    "display(json_box)\n",
    "\n",
    "output = widgets.Output()\n",
    "@output.capture()\n",
    "def createjson_button_clicked(b):\n",
    "    clear_output()\n",
    "    print(\"Creating json file\")\n",
    "    mypath = xlfilepath_textbox.value\n",
    "    jsonfilename = 'dataset_description'\n",
    "    excelpath =  mypath + '\\\\' + jsonfilename + '.xlsx'\n",
    "    df = pd.read_excel(excelpath)\n",
    "    df.fillna('', inplace=True)\n",
    "    mydata = {}\n",
    "    count = -1\n",
    "    filePathNameWExt2 =  mypath + '\\\\' + jsonfilename + '.json'\n",
    "    for item in df['Field']:\n",
    "        count += 1\n",
    "        mydata[item] = df['Entry'].iloc[count]  \n",
    "    def writeToJSONFile(path, fileName, data):\n",
    "        filePathNameWExt =  path + '\\\\' + fileName + '.json'\n",
    "        with open(filePathNameWExt, 'w') as fp:\n",
    "            json.dump(data, fp)\n",
    "    writeToJSONFile(mypath,jsonfilename,mydata)\n",
    "    print(\"json file is created at\", filePathNameWExt2 )\n",
    "createjson_button.on_click(createjson_button_clicked)\n",
    "display(output)\n",
    "\n"
   ]
  },
  {
   "cell_type": "markdown",
   "metadata": {},
   "source": [
    "## 2. Add details about participants "
   ]
  },
  {
   "cell_type": "markdown",
   "metadata": {},
   "source": [
    "Download [participants.tsv](https://github.com/bvhpatel/DOPE/raw/master/templates/participants.tsv) and required add details (open with Excel and click Save when dope)"
   ]
  },
  {
   "cell_type": "markdown",
   "metadata": {},
   "source": [
    "## 3. Organize your file according to BIDS instructions"
   ]
  },
  {
   "cell_type": "markdown",
   "metadata": {},
   "source": [
    "Find guidelines in section Section 7 and 8 of [the specs manuals](https://bids.neuroimaging.io/bids_spec.pdf). Automated file organizer will be included here in the future."
   ]
  },
  {
   "cell_type": "markdown",
   "metadata": {},
   "source": [
    "## 4. Convert you DICOMs to (compressed) NIFTI "
   ]
  },
  {
   "cell_type": "markdown",
   "metadata": {},
   "source": [
    "Go to [https://www.nitrc.org/projects/dcm2nii/](https://www.nitrc.org/projects/dcm2nii/)"
   ]
  },
  {
   "cell_type": "markdown",
   "metadata": {},
   "source": [
    "## 5. Add specific .json files to subdirectories"
   ]
  },
  {
   "cell_type": "markdown",
   "metadata": {},
   "source": [
    "Excel templates will be added in the future for automated conversion to json format."
   ]
  },
  {
   "cell_type": "markdown",
   "metadata": {},
   "source": [
    "## 6. Add a README file (Optional)"
   ]
  },
  {
   "cell_type": "markdown",
   "metadata": {},
   "source": [
    "## 7. Additional instructions (Optional)"
   ]
  },
  {
   "cell_type": "markdown",
   "metadata": {},
   "source": [
    "If you would like to include additional files not compatible with BIDs at this point, create a .bidsignore file in your dataset root folder with the paths that need to be excluded."
   ]
  },
  {
   "cell_type": "markdown",
   "metadata": {},
   "source": [
    " ## 8. Validate your file organization using the BIDS validator"
   ]
  },
  {
   "cell_type": "markdown",
   "metadata": {},
   "source": [
    "BIDS validator will be incorporated here in the future."
   ]
  },
  {
   "cell_type": "code",
   "execution_count": null,
   "metadata": {},
   "outputs": [],
   "source": []
  }
 ],
 "metadata": {
  "kernelspec": {
   "display_name": "Python 3",
   "language": "python",
   "name": "python3"
  },
  "language_info": {
   "codemirror_mode": {
    "name": "ipython",
    "version": 3
   },
   "file_extension": ".py",
   "mimetype": "text/x-python",
   "name": "python",
   "nbconvert_exporter": "python",
   "pygments_lexer": "ipython3",
   "version": "3.7.0"
  }
 },
 "nbformat": 4,
 "nbformat_minor": 2
}
