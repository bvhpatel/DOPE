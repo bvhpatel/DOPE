{
 "cells": [
  {
   "cell_type": "markdown",
   "metadata": {},
   "source": [
    "# Validate your dataset"
   ]
  },
  {
   "cell_type": "code",
   "execution_count": 28,
   "metadata": {},
   "outputs": [
    {
     "data": {
      "application/vnd.jupyter.widget-view+json": {
       "model_id": "00d26371dfc344e78c07f3c76c0bfacd",
       "version_major": 2,
       "version_minor": 0
      },
      "text/plain": [
       "HBox(children=(Label(value='Select your data type:'), Dropdown(options=('Select', 'Computational model', 'Othe…"
      ]
     },
     "metadata": {},
     "output_type": "display_data"
    },
    {
     "data": {
      "application/vnd.jupyter.widget-view+json": {
       "model_id": "710eeeb025694a8bb86fba4647b93d76",
       "version_major": 2,
       "version_minor": 0
      },
      "text/plain": [
       "HBox(children=(Label(value='Specify the path to your dataset folder:'), Text(value='', layout=Layout(width='60…"
      ]
     },
     "metadata": {},
     "output_type": "display_data"
    },
    {
     "data": {
      "application/vnd.jupyter.widget-view+json": {
       "model_id": "fd9935a5cc814518ad5ebc510753ad26",
       "version_major": 2,
       "version_minor": 0
      },
      "text/plain": [
       "Button(description='Check dataset', style=ButtonStyle())"
      ]
     },
     "metadata": {},
     "output_type": "display_data"
    },
    {
     "data": {
      "application/vnd.jupyter.widget-view+json": {
       "model_id": "973efff449f34d5aae37aa474676dbe1",
       "version_major": 2,
       "version_minor": 0
      },
      "text/plain": [
       "Output()"
      ]
     },
     "metadata": {},
     "output_type": "display_data"
    }
   ],
   "source": [
    "from IPython.display import Markdown, display\n",
    "import ipywidgets as widgets # load library for interactive widgets (drop-down lists, button, etc.)\n",
    "from ipywidgets import HBox, Label, Layout\n",
    "from IPython.display import clear_output # clear output if you click on button several times\n",
    "import os\n",
    "from os import listdir, walk\n",
    "from os.path import isfile, join\n",
    "import pandas as pd\n",
    "\n",
    "### Define some useful functions\n",
    "\n",
    "# Print with style (bold etc.)\n",
    "def printmd(string): \n",
    "    display(Markdown(string))\n",
    "\n",
    "# Dropdown list\n",
    "def mydropdownlist(listoptions):\n",
    "    mydropdownlistis = widgets.Dropdown(\n",
    "    options = listoptions,\n",
    "    value = listoptions[0],\n",
    "    disabled = False    \n",
    "    )\n",
    "    return mydropdownlistis\n",
    "\n",
    "# Button\n",
    "def mybutton(mydescription):\n",
    "    mybuttonis = widgets.Button(\n",
    "    description = mydescription,\n",
    "    disabled = False,\n",
    "    button_style = '', # 'success', 'info', 'warning', 'danger' or ''    \n",
    "    )\n",
    "    return mybuttonis\n",
    "\n",
    "# Textbox\n",
    "def mytextbox(placeholder):\n",
    "    mytextboxis = widgets.Text(\n",
    "        #value='Type dataset name',\n",
    "        placeholder=placeholder,\n",
    "        disabled=False,\n",
    "        layout=Layout(width='60%')\n",
    "    )\n",
    "    return mytextboxis\n",
    "\n",
    "### Data type selection box\n",
    "\n",
    "# List of data currently included the program\n",
    "datatypelist = ['Select']\n",
    "current_folder = os.getcwd() \n",
    "main_folder = os.path.dirname(current_folder)\n",
    "validators_folder = r'Validators'\n",
    "validators_path = os.path.join(main_folder, validators_folder) # full path = main folder/validators\n",
    "validators_names = [\".\".join(f.split(\".\")[:-1]) for f in os.listdir(validators_path) \\\n",
    "                  if os.path.isfile(os.path.join(validators_path, f))] # Import validator names without extension\n",
    "validators_names = [x for x in validators_names if not x.startswith('~')] # discard temp excel files starting with ~\n",
    "datatypelist = datatypelist + validators_names + ['Other'] # dropdown list options\n",
    "#datatypelist = ['Select', 'MRI-Neural','Micro-CT', 'Computational model', 'Other']\n",
    "\n",
    "# Drop down list for selecting datatype\n",
    "select_datatype = mydropdownlist(datatypelist)\n",
    "\n",
    "#Specify file location\n",
    "folderlocation_textbox = mytextbox(r'e.g. C:\\User\\Desktop\\DOPEv1.1\\examples\\validators\\Computational model dataset')\n",
    "\n",
    "# Button to validate dataytype selection and display checklist\n",
    "checkdataset_button = mybutton('Check dataset') \n",
    "  \n",
    "# Box\n",
    "selection_box = HBox([Label('Select your data type:'), select_datatype])\n",
    "display(selection_box)\n",
    "folderlocation_box = HBox([Label('Specify the path to your dataset folder:'), folderlocation_textbox])\n",
    "display(folderlocation_box)\n",
    "display(checkdataset_button)  \n",
    "\n",
    "### Check datatype\n",
    "listfoldername = r'Validation'\n",
    "# Show checklist as a table with link to useful webpages, form templates, and interactive notebooks (when applicable)\n",
    "output = widgets.Output()\n",
    "@output.capture()\n",
    "def on_button_clicked(b):\n",
    "    clear_output()\n",
    "    if (select_datatype.value == displayoption):\n",
    "        clear_output()\n",
    "        printmd('**Please select data type**')\n",
    "    elif(select_datatype.value == \"Other\"):\n",
    "        clear_output()\n",
    "        printmd('**Your data type has not been doped yet**')\n",
    "    else:\n",
    "        clear_output()\n",
    "        printmd('**Checking the files in your dataset**')\n",
    "\n",
    "        validationfile = os.path.join(main_folder, validators_folder, select_datatype.value + '.xlsx')\n",
    "        df = pd.read_excel(validationfile)\n",
    "        expectedfiles = df['Expected files']\n",
    "        try:\n",
    "            mypath = folderlocation_textbox.value\n",
    "            onlyfiles = [f for f in listdir(mypath) if isfile(join(mypath, f))]\n",
    "            onlyfolders = next(os.walk(os.path.join(mypath,'.')))[1]\n",
    "            allfiles = onlyfiles + onlyfolders \n",
    "            for myfilename in expectedfiles:\n",
    "                if (myfilename in allfiles):\n",
    "                    print(myfilename, ': Checked')\n",
    "                else:\n",
    "                    print(myfilename, ': Missing!')\n",
    "        except:\n",
    "            clear_output()\n",
    "            print('Dataset folder could not be located')\n",
    "            \n",
    "checkdataset_button.on_click(on_button_clicked)\n",
    "display(output)"
   ]
  },
  {
   "cell_type": "code",
   "execution_count": null,
   "metadata": {},
   "outputs": [],
   "source": []
  }
 ],
 "metadata": {
  "kernelspec": {
   "display_name": "Python 3",
   "language": "python",
   "name": "python3"
  },
  "language_info": {
   "codemirror_mode": {
    "name": "ipython",
    "version": 3
   },
   "file_extension": ".py",
   "mimetype": "text/x-python",
   "name": "python",
   "nbconvert_exporter": "python",
   "pygments_lexer": "ipython3",
   "version": "3.7.0"
  }
 },
 "nbformat": 4,
 "nbformat_minor": 2
}
